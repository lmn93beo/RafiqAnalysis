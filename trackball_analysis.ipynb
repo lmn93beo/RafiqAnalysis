{
 "cells": [
  {
   "cell_type": "markdown",
   "metadata": {},
   "source": [
    "## Trackball Analysis\n",
    "*Nhat Le, May 2018*\n",
    "\n",
    "This is a file for analysis of the left/right trackball behavior and imaging data"
   ]
  },
  {
   "cell_type": "code",
   "execution_count": 1,
   "metadata": {
    "collapsed": true
   },
   "outputs": [],
   "source": [
    "import numpy as np\n",
    "import matplotlib.pyplot as plt\n",
    "import seaborn as sns\n",
    "import scipy.io\n",
    "import pandas as pd\n",
    "\n",
    "\n",
    "%matplotlib inline"
   ]
  },
  {
   "cell_type": "code",
   "execution_count": 34,
   "metadata": {
    "collapsed": true
   },
   "outputs": [],
   "source": [
    "# Load the data from the mat files\n",
    "rawc_data = scipy.io.loadmat('raw_c.mat', squeeze_me=True)['raw_c']\n",
    "rawi_data = scipy.io.loadmat('raw_i.mat', squeeze_me=True)['raw_i']\n",
    "mean_velc_data = scipy.io.loadmat('mean_vel_c.mat', squeeze_me=True)['mean_vel_c']\n",
    "mean_veli_data = scipy.io.loadmat('mean_vel_i.mat', squeeze_me=True)['mean_vel_i']\n",
    "mvmt_startc_data = scipy.io.loadmat('mvmt_start_c.mat', squeeze_me=True)['mvmt_start_c']\n",
    "mvmt_starti_data = scipy.io.loadmat('mvmt_start_i.mat', squeeze_me=True)['mvmt_start_i']\n",
    "rtc_data = scipy.io.loadmat('rt_c.mat', squeeze_me=True)['rt_c']\n",
    "rti_data = scipy.io.loadmat('rt_i.mat', squeeze_me=True)['rt_i']\n",
    "trial_orderc_data = scipy.io.loadmat('trial_order_c.mat', squeeze_me=True)['trial_order_c']\n",
    "trial_orderi_data = scipy.io.loadmat('trial_order_i.mat', squeeze_me=True)['trial_order_i']\n",
    "\n",
    "\n",
    "ref_table = scipy.io.loadmat('ref_table.mat')['ref_table']\n",
    "ref_frame = pd.DataFrame(ref_table, columns=['cellID', 'session', 'id_sess', 'SC', 'modulated', 'side'])"
   ]
  },
  {
   "cell_type": "code",
   "execution_count": 3,
   "metadata": {},
   "outputs": [
    {
     "data": {
      "text/plain": [
       "[<matplotlib.lines.Line2D at 0x1ad28f9e1d0>]"
      ]
     },
     "execution_count": 3,
     "metadata": {},
     "output_type": "execute_result"
    },
    {
     "data": {
      "image/png": "[encoded data removed]",
      "text/plain": [
       "<matplotlib.figure.Figure at 0x1ad25a805f8>"
      ]
     },
     "metadata": {},
     "output_type": "display_data"
    }
   ],
   "source": [
    "def get_ntrials(data):\n",
    "    '''Given a raw data struct, return an array of the number \n",
    "    of trials that each cell was recorded'''\n",
    "    ntrials = []\n",
    "    for i in range(len(data)):\n",
    "        ntrials.append(len(data[i]))\n",
    "    return ntrials\n",
    "\n",
    "ntrialsC = get_ntrials(mean_velc_data)\n",
    "ntrialsI = get_ntrials(mean_veli_data)\n",
    "\n",
    "# Maximum number of trials for each cell\n",
    "ntrials_max = np.max(ntrialsC + ntrialsI)\n",
    "\n",
    "# Number of cells\n",
    "ncells = len(ntrialsC)\n",
    "\n",
    "plt.plot(ntrialsC)\n",
    "plt.plot(ntrialsI)"
   ]
  },
  {
   "cell_type": "markdown",
   "metadata": {},
   "source": [
    "### Tidy data\n",
    "Make a tidy data frame that contains all the information"
   ]
  },
  {
   "cell_type": "code",
   "execution_count": 19,
   "metadata": {},
   "outputs": [],
   "source": [
    "def make_tidy_frame(raw_struct, contra, varname):\n",
    "    '''Inputs: raw_struct, the raw data array\n",
    "    contra: 1 if contra, 0 if ipsi\n",
    "    ncells: number of cells\n",
    "    ntrials_max: max number of trials\n",
    "    Returns a tidy data frame with columns: cells, trials, varname and contra'''\n",
    "    # Gather relevant parameters\n",
    "    ntrials = get_ntrials(raw_struct)\n",
    "    ntrials_max = max(ntrials)\n",
    "    ncells = len(ntrials)\n",
    "    \n",
    "    # Make an array with first column being number of cells,\n",
    "    # Each row is a nan-padded array representing the value of the parameter\n",
    "    # of each cell\n",
    "    cell_arr = np.empty((ncells, ntrials_max + 1))\n",
    "    cell_arr[:] = np.nan\n",
    "\n",
    "    for i in range(ncells):\n",
    "        cell_arr[i, 1:ntrials[i] + 1] = raw_struct[i]\n",
    "        cell_arr[i, 0] = i\n",
    "        \n",
    "    # Make the tidy frame\n",
    "    cell_frame = pd.DataFrame(cell_arr)\n",
    "    cell_frame = pd.melt(cell_frame, id_vars=[0], var_name='trial', value_name=varname)\n",
    "    cell_frame.columns = ['cellID', 'trial', varname]\n",
    "    cell_frame = cell_frame.dropna()\n",
    "    cell_frame['contra'] = contra\n",
    "    cell_frame.trial = cell_frame.trial - 1\n",
    "    \n",
    "    return cell_frame"
   ]
  },
  {
   "cell_type": "code",
   "execution_count": 20,
   "metadata": {},
   "outputs": [],
   "source": [
    "mean_velC_fr = make_tidy_frame(mean_velc_data, 1, 'mean_vel')\n",
    "mean_velI_fr = make_tidy_frame(mean_veli_data, 0, 'mean_vel')\n",
    "\n",
    "mvmt_startC_fr = make_tidy_frame(mvmt_startc_data, 1, 'mvmt_start')\n",
    "mvmt_startI_fr = make_tidy_frame(mvmt_starti_data, 0, 'mvmt_start')\n",
    "\n",
    "rtC_fr = make_tidy_frame(rtc_data, 1, 'rt')\n",
    "rtI_fr = make_tidy_frame(rti_data, 0, 'rt')\n",
    "\n",
    "trial_orderC_fr = make_tidy_frame(trial_orderc_data, 1, 'trial_order')\n",
    "trial_orderI_fr = make_tidy_frame(trial_orderi_data, 0, 'trial_order')"
   ]
  },
  {
   "cell_type": "code",
   "execution_count": 21,
   "metadata": {},
   "outputs": [],
   "source": [
    "# Merge all data frames\n",
    "Cframe = pd.merge(rtC_fr, mvmt_startC_fr, on=['cellID', 'trial', 'contra'])\n",
    "Cframe = pd.merge(Cframe, mean_velC_fr, on=['cellID', 'trial', 'contra'])\n",
    "Cframe = pd.merge(Cframe, trial_orderC_fr, on=['cellID', 'trial', 'contra'])\n",
    "\n",
    "Iframe = pd.merge(rtI_fr, mvmt_startI_fr, on=['cellID', 'trial', 'contra'])\n",
    "Iframe = pd.merge(Iframe, mean_velI_fr, on=['cellID', 'trial', 'contra'])\n",
    "Iframe = pd.merge(Iframe, trial_orderI_fr, on=['cellID', 'trial', 'contra'])\n",
    "\n",
    "# Now merge all into a master frame\n",
    "CIframe = pd.concat([Cframe, Iframe])\n",
    "all_frame = CIframe.merge(ref_frame, on='cellID')"
   ]
  },
  {
   "cell_type": "code",
   "execution_count": 23,
   "metadata": {},
   "outputs": [
    {
     "name": "stdout",
     "output_type": "stream",
     "text": [
      "contra frames shapes\n",
      "(110070, 4)\n",
      "(110070, 4)\n",
      "(110070, 4)\n",
      "(110070, 4)\n",
      "(110070, 7)\n",
      "ipsi frames shapes\n",
      "(106476, 4)\n",
      "(106476, 4)\n",
      "(106476, 4)\n",
      "(106476, 4)\n",
      "(106476, 7)\n"
     ]
    }
   ],
   "source": [
    "# Just a check that everything is consistent\n",
    "print('contra frames shapes')\n",
    "print(trial_orderC_fr.shape)\n",
    "print(mean_velC_fr.shape)\n",
    "print(mvmt_startC_fr.shape)\n",
    "print(rtC_fr.shape)\n",
    "print(Cframe.shape)\n",
    "\n",
    "print('ipsi frames shapes')\n",
    "print(trial_orderI_fr.shape)\n",
    "print(mean_velI_fr.shape)\n",
    "print(mvmt_startI_fr.shape)\n",
    "print(rtI_fr.shape)\n",
    "print(Iframe.shape)"
   ]
  },
  {
   "cell_type": "markdown",
   "metadata": {},
   "source": [
    "## Data analysis"
   ]
  },
  {
   "cell_type": "code",
   "execution_count": 11,
   "metadata": {},
   "outputs": [
    {
     "ename": "NameError",
     "evalue": "name 'trial_orderi' is not defined",
     "output_type": "error",
     "traceback": [
      "\u001b[1;31m---------------------------------------------------------------------------\u001b[0m",
      "\u001b[1;31mNameError\u001b[0m                                 Traceback (most recent call last)",
      "\u001b[1;32m<ipython-input-11-74f015f5d08f>\u001b[0m in \u001b[0;36m<module>\u001b[1;34m()\u001b[0m\n\u001b[1;32m----> 1\u001b[1;33m \u001b[0mnp\u001b[0m\u001b[1;33m.\u001b[0m\u001b[0mmin\u001b[0m\u001b[1;33m(\u001b[0m\u001b[0mtrial_orderi\u001b[0m\u001b[1;33m[\u001b[0m\u001b[1;36m0\u001b[0m\u001b[1;33m]\u001b[0m\u001b[1;33m)\u001b[0m\u001b[1;33m\u001b[0m\u001b[0m\n\u001b[0m",
      "\u001b[1;31mNameError\u001b[0m: name 'trial_orderi' is not defined"
     ]
    }
   ],
   "source": [
    "np.min(trial_orderi[0])"
   ]
  },
  {
   "cell_type": "code",
   "execution_count": null,
   "metadata": {},
   "outputs": [],
   "source": [
    "plt.hist(mvmt_startc[900])\n",
    "# The two bumps are suggestive of two different modes of operation - \n",
    "# TODO: take a look at \n",
    "# the neural signatures of those two modes"
   ]
  },
  {
   "cell_type": "code",
   "execution_count": null,
   "metadata": {},
   "outputs": [],
   "source": [
    "mean_velc_data[0].shape\n",
    "mean_veli_data[0].shape\n"
   ]
  },
  {
   "cell_type": "code",
   "execution_count": null,
   "metadata": {},
   "outputs": [],
   "source": [
    "ref_frame"
   ]
  },
  {
   "cell_type": "code",
   "execution_count": null,
   "metadata": {},
   "outputs": [],
   "source": [
    "x = np.arange(10)\n",
    "x[2:5]"
   ]
  },
  {
   "cell_type": "code",
   "execution_count": null,
   "metadata": {},
   "outputs": [],
   "source": [
    "# Find z-score\n",
    "cell_data = rawc_data[900]\n",
    "#plt.plot(cell_data);\n",
    "\n",
    "baseline_start = 5\n",
    "baseline_end = 15\n",
    "\n",
    "baseline_activity = cell_data[baseline_start:baseline_end]\n",
    "\n",
    "# Find mean and std baseline\n",
    "baseline_mean = np.mean(baseline_activity, axis=0)\n",
    "baseline_sd = np.std(baseline_activity, axis=0)\n",
    "\n",
    "# Normalize\n",
    "cell_data_normed = (cell_data - baseline_mean) / baseline_sd\n",
    "mean_cell_data = np.mean(cell_data_normed, axis=1)\n",
    "\n",
    "\n",
    "plt.plot(cell_data_normed, 'b', alpha=0.1);\n",
    "plt.plot(mean_cell_data)\n",
    "plt.vlines(14.5, -10, 10, linestyles='dotted')"
   ]
  },
  {
   "cell_type": "code",
   "execution_count": null,
   "metadata": {},
   "outputs": [],
   "source": [
    "cell_data.shape"
   ]
  },
  {
   "cell_type": "code",
   "execution_count": null,
   "metadata": {},
   "outputs": [],
   "source": [
    "a = (cell_data - baseline_mean) / baseline_sd\n"
   ]
  },
  {
   "cell_type": "code",
   "execution_count": null,
   "metadata": {},
   "outputs": [],
   "source": [
    "plt.plot(a);"
   ]
  },
  {
   "cell_type": "code",
   "execution_count": null,
   "metadata": {},
   "outputs": [],
   "source": [
    "cell_data"
   ]
  },
  {
   "cell_type": "code",
   "execution_count": null,
   "metadata": {},
   "outputs": [],
   "source": [
    "cell_num = 1400\n",
    "mean_cell = np.mean(rawc_data[cell_num], axis=1)\n",
    "\n",
    "plt.plot(rawc_data[cell_num], 'b', alpha=0.1);\n",
    "plt.plot(mean_cell)"
   ]
  },
  {
   "cell_type": "code",
   "execution_count": null,
   "metadata": {
    "collapsed": true
   },
   "outputs": [],
   "source": [
    "means = np.zeros((1572, 31))\n",
    "\n",
    "for i in range(1572):\n",
    "    celldata = rawc_data[i]\n",
    "    means[i,:] = np.mean(celldata, axis=1)"
   ]
  },
  {
   "cell_type": "code",
   "execution_count": null,
   "metadata": {},
   "outputs": [],
   "source": [
    "plt.figure(figsize=(15,50))\n",
    "plt.imshow(means)"
   ]
  },
  {
   "cell_type": "code",
   "execution_count": null,
   "metadata": {},
   "outputs": [],
   "source": [
    "# Modulated cells are all SC\n",
    "ref_pd.groupby('modulated')['SC'].mean()"
   ]
  },
  {
   "cell_type": "code",
   "execution_count": null,
   "metadata": {},
   "outputs": [],
   "source": [
    "ref_pd[ref_pd.session == 1]"
   ]
  },
  {
   "cell_type": "code",
   "execution_count": null,
   "metadata": {},
   "outputs": [],
   "source": [
    "# Group by SC\n",
    "ref_pd.groupby('SC')['modulated'].mean()"
   ]
  },
  {
   "cell_type": "code",
   "execution_count": null,
   "metadata": {},
   "outputs": [],
   "source": [
    "ref_pd.groupby('SC')['side'].mean()"
   ]
  },
  {
   "cell_type": "markdown",
   "metadata": {},
   "source": [
    "## Correlation between cell activity and mean velocity"
   ]
  },
  {
   "cell_type": "code",
   "execution_count": null,
   "metadata": {
    "collapsed": true
   },
   "outputs": [],
   "source": [
    "# TODO: look at correlation between velocity and cell activity\n",
    "ncell = 20\n",
    "cell_data = rawc_data[ncell]\n",
    "mean_cell_activity = np.mean(cell_data, axis=0)\n",
    "plt.scatter(mean_cell_activity, mean_velc_data[ncell])"
   ]
  },
  {
   "cell_type": "code",
   "execution_count": null,
   "metadata": {},
   "outputs": [],
   "source": []
  }
 ],
 "metadata": {
  "kernelspec": {
   "display_name": "Python 3",
   "language": "python",
   "name": "python3"
  },
  "language_info": {
   "codemirror_mode": {
    "name": "ipython",
    "version": 3
   },
   "file_extension": ".py",
   "mimetype": "text/x-python",
   "name": "python",
   "nbconvert_exporter": "python",
   "pygments_lexer": "ipython3",
   "version": "3.6.4"
  }
 },
 "nbformat": 4,
 "nbformat_minor": 2
}
